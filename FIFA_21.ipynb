{
  "nbformat": 4,
  "nbformat_minor": 0,
  "metadata": {
    "colab": {
      "provenance": [],
      "authorship_tag": "ABX9TyO/S684chVLVDGkxqrAn4LF",
      "include_colab_link": true
    },
    "kernelspec": {
      "name": "python3",
      "display_name": "Python 3"
    },
    "language_info": {
      "name": "python"
    }
  },
  "cells": [
    {
      "cell_type": "markdown",
      "metadata": {
        "id": "view-in-github",
        "colab_type": "text"
      },
      "source": [
        "<a href=\"https://colab.research.google.com/github/Suesue098/Basic/blob/main/FIFA_21.ipynb\" target=\"_parent\"><img src=\"https://colab.research.google.com/assets/colab-badge.svg\" alt=\"Open In Colab\"/></a>"
      ]
    },
    {
      "cell_type": "code",
      "execution_count": null,
      "metadata": {
        "id": "zAX3KBcss0aZ"
      },
      "outputs": [],
      "source": [
        "import numpy as np\n",
        "import pandas as pd"
      ]
    },
    {
      "cell_type": "code",
      "source": [
        "import seaborn as sns\n",
        "import matplotlib.pyplot as plt\n"
      ],
      "metadata": {
        "id": "1bZgKUz-uHib"
      },
      "execution_count": null,
      "outputs": []
    },
    {
      "cell_type": "code",
      "source": [
        "from datetime import datetime, timedelta"
      ],
      "metadata": {
        "id": "WFAhRQ5FuRm8"
      },
      "execution_count": null,
      "outputs": []
    },
    {
      "cell_type": "code",
      "source": [
        "df = pd.read_csv('fifa21 raw data v2.csv')"
      ],
      "metadata": {
        "colab": {
          "base_uri": "https://localhost:8080/"
        },
        "id": "eil9_iUuuYA1",
        "outputId": "3ca347dc-3a8a-42fc-9780-fb2f03d5e989"
      },
      "execution_count": null,
      "outputs": [
        {
          "output_type": "stream",
          "name": "stderr",
          "text": [
            "<ipython-input-4-e8a5c45769e7>:1: DtypeWarning: Columns (76) have mixed types. Specify dtype option on import or set low_memory=False.\n",
            "  df = pd.read_csv('fifa21 raw data v2.csv')\n"
          ]
        }
      ]
    },
    {
      "cell_type": "code",
      "source": [
        "df.head()"
      ],
      "metadata": {
        "colab": {
          "base_uri": "https://localhost:8080/",
          "height": 429
        },
        "id": "nJz0xAlDupru",
        "outputId": "4fba6492-d54d-493c-8b85-f472b394d323"
      },
      "execution_count": null,
      "outputs": [
        {
          "output_type": "execute_result",
          "data": {
            "text/plain": [
              "       ID               Name                      LongName  \\\n",
              "0  158023           L. Messi                  Lionel Messi   \n",
              "1   20801  Cristiano Ronaldo  C. Ronaldo dos Santos Aveiro   \n",
              "2  200389           J. Oblak                     Jan Oblak   \n",
              "3  192985       K. De Bruyne               Kevin De Bruyne   \n",
              "4  190871          Neymar Jr    Neymar da Silva Santos Jr.   \n",
              "\n",
              "                                           photoUrl  \\\n",
              "0  https://cdn.sofifa.com/players/158/023/21_60.png   \n",
              "1  https://cdn.sofifa.com/players/020/801/21_60.png   \n",
              "2  https://cdn.sofifa.com/players/200/389/21_60.png   \n",
              "3  https://cdn.sofifa.com/players/192/985/21_60.png   \n",
              "4  https://cdn.sofifa.com/players/190/871/21_60.png   \n",
              "\n",
              "                                           playerUrl Nationality  Age  ↓OVA  \\\n",
              "0  http://sofifa.com/player/158023/lionel-messi/2...   Argentina   33    93   \n",
              "1  http://sofifa.com/player/20801/c-ronaldo-dos-s...    Portugal   35    92   \n",
              "2  http://sofifa.com/player/200389/jan-oblak/210006/    Slovenia   27    91   \n",
              "3  http://sofifa.com/player/192985/kevin-de-bruyn...     Belgium   29    91   \n",
              "4  http://sofifa.com/player/190871/neymar-da-silv...      Brazil   28    91   \n",
              "\n",
              "   POT                         Club  ...     A/W     D/W   IR PAC SHO  PAS  \\\n",
              "0   93         \\n\\n\\n\\nFC Barcelona  ...  Medium     Low  5 ★  85  92   91   \n",
              "1   92             \\n\\n\\n\\nJuventus  ...    High     Low  5 ★  89  93   81   \n",
              "2   93      \\n\\n\\n\\nAtlético Madrid  ...  Medium  Medium  3 ★  87  92   78   \n",
              "3   91      \\n\\n\\n\\nManchester City  ...    High    High  4 ★  76  86   93   \n",
              "4   91  \\n\\n\\n\\nParis Saint-Germain  ...    High  Medium  5 ★  91  85   86   \n",
              "\n",
              "  DRI DEF PHY Hits  \n",
              "0  95  38  65  771  \n",
              "1  89  35  77  562  \n",
              "2  90  52  90  150  \n",
              "3  88  64  78  207  \n",
              "4  94  36  59  595  \n",
              "\n",
              "[5 rows x 77 columns]"
            ],
            "text/html": [
              "\n",
              "  <div id=\"df-5b53ec57-ba6e-487a-9cc7-238329c227eb\" class=\"colab-df-container\">\n",
              "    <div>\n",
              "<style scoped>\n",
              "    .dataframe tbody tr th:only-of-type {\n",
              "        vertical-align: middle;\n",
              "    }\n",
              "\n",
              "    .dataframe tbody tr th {\n",
              "        vertical-align: top;\n",
              "    }\n",
              "\n",
              "    .dataframe thead th {\n",
              "        text-align: right;\n",
              "    }\n",
              "</style>\n",
              "<table border=\"1\" class=\"dataframe\">\n",
              "  <thead>\n",
              "    <tr style=\"text-align: right;\">\n",
              "      <th></th>\n",
              "      <th>ID</th>\n",
              "      <th>Name</th>\n",
              "      <th>LongName</th>\n",
              "      <th>photoUrl</th>\n",
              "      <th>playerUrl</th>\n",
              "      <th>Nationality</th>\n",
              "      <th>Age</th>\n",
              "      <th>↓OVA</th>\n",
              "      <th>POT</th>\n",
              "      <th>Club</th>\n",
              "      <th>...</th>\n",
              "      <th>A/W</th>\n",
              "      <th>D/W</th>\n",
              "      <th>IR</th>\n",
              "      <th>PAC</th>\n",
              "      <th>SHO</th>\n",
              "      <th>PAS</th>\n",
              "      <th>DRI</th>\n",
              "      <th>DEF</th>\n",
              "      <th>PHY</th>\n",
              "      <th>Hits</th>\n",
              "    </tr>\n",
              "  </thead>\n",
              "  <tbody>\n",
              "    <tr>\n",
              "      <th>0</th>\n",
              "      <td>158023</td>\n",
              "      <td>L. Messi</td>\n",
              "      <td>Lionel Messi</td>\n",
              "      <td>https://cdn.sofifa.com/players/158/023/21_60.png</td>\n",
              "      <td>http://sofifa.com/player/158023/lionel-messi/2...</td>\n",
              "      <td>Argentina</td>\n",
              "      <td>33</td>\n",
              "      <td>93</td>\n",
              "      <td>93</td>\n",
              "      <td>\\n\\n\\n\\nFC Barcelona</td>\n",
              "      <td>...</td>\n",
              "      <td>Medium</td>\n",
              "      <td>Low</td>\n",
              "      <td>5 ★</td>\n",
              "      <td>85</td>\n",
              "      <td>92</td>\n",
              "      <td>91</td>\n",
              "      <td>95</td>\n",
              "      <td>38</td>\n",
              "      <td>65</td>\n",
              "      <td>771</td>\n",
              "    </tr>\n",
              "    <tr>\n",
              "      <th>1</th>\n",
              "      <td>20801</td>\n",
              "      <td>Cristiano Ronaldo</td>\n",
              "      <td>C. Ronaldo dos Santos Aveiro</td>\n",
              "      <td>https://cdn.sofifa.com/players/020/801/21_60.png</td>\n",
              "      <td>http://sofifa.com/player/20801/c-ronaldo-dos-s...</td>\n",
              "      <td>Portugal</td>\n",
              "      <td>35</td>\n",
              "      <td>92</td>\n",
              "      <td>92</td>\n",
              "      <td>\\n\\n\\n\\nJuventus</td>\n",
              "      <td>...</td>\n",
              "      <td>High</td>\n",
              "      <td>Low</td>\n",
              "      <td>5 ★</td>\n",
              "      <td>89</td>\n",
              "      <td>93</td>\n",
              "      <td>81</td>\n",
              "      <td>89</td>\n",
              "      <td>35</td>\n",
              "      <td>77</td>\n",
              "      <td>562</td>\n",
              "    </tr>\n",
              "    <tr>\n",
              "      <th>2</th>\n",
              "      <td>200389</td>\n",
              "      <td>J. Oblak</td>\n",
              "      <td>Jan Oblak</td>\n",
              "      <td>https://cdn.sofifa.com/players/200/389/21_60.png</td>\n",
              "      <td>http://sofifa.com/player/200389/jan-oblak/210006/</td>\n",
              "      <td>Slovenia</td>\n",
              "      <td>27</td>\n",
              "      <td>91</td>\n",
              "      <td>93</td>\n",
              "      <td>\\n\\n\\n\\nAtlético Madrid</td>\n",
              "      <td>...</td>\n",
              "      <td>Medium</td>\n",
              "      <td>Medium</td>\n",
              "      <td>3 ★</td>\n",
              "      <td>87</td>\n",
              "      <td>92</td>\n",
              "      <td>78</td>\n",
              "      <td>90</td>\n",
              "      <td>52</td>\n",
              "      <td>90</td>\n",
              "      <td>150</td>\n",
              "    </tr>\n",
              "    <tr>\n",
              "      <th>3</th>\n",
              "      <td>192985</td>\n",
              "      <td>K. De Bruyne</td>\n",
              "      <td>Kevin De Bruyne</td>\n",
              "      <td>https://cdn.sofifa.com/players/192/985/21_60.png</td>\n",
              "      <td>http://sofifa.com/player/192985/kevin-de-bruyn...</td>\n",
              "      <td>Belgium</td>\n",
              "      <td>29</td>\n",
              "      <td>91</td>\n",
              "      <td>91</td>\n",
              "      <td>\\n\\n\\n\\nManchester City</td>\n",
              "      <td>...</td>\n",
              "      <td>High</td>\n",
              "      <td>High</td>\n",
              "      <td>4 ★</td>\n",
              "      <td>76</td>\n",
              "      <td>86</td>\n",
              "      <td>93</td>\n",
              "      <td>88</td>\n",
              "      <td>64</td>\n",
              "      <td>78</td>\n",
              "      <td>207</td>\n",
              "    </tr>\n",
              "    <tr>\n",
              "      <th>4</th>\n",
              "      <td>190871</td>\n",
              "      <td>Neymar Jr</td>\n",
              "      <td>Neymar da Silva Santos Jr.</td>\n",
              "      <td>https://cdn.sofifa.com/players/190/871/21_60.png</td>\n",
              "      <td>http://sofifa.com/player/190871/neymar-da-silv...</td>\n",
              "      <td>Brazil</td>\n",
              "      <td>28</td>\n",
              "      <td>91</td>\n",
              "      <td>91</td>\n",
              "      <td>\\n\\n\\n\\nParis Saint-Germain</td>\n",
              "      <td>...</td>\n",
              "      <td>High</td>\n",
              "      <td>Medium</td>\n",
              "      <td>5 ★</td>\n",
              "      <td>91</td>\n",
              "      <td>85</td>\n",
              "      <td>86</td>\n",
              "      <td>94</td>\n",
              "      <td>36</td>\n",
              "      <td>59</td>\n",
              "      <td>595</td>\n",
              "    </tr>\n",
              "  </tbody>\n",
              "</table>\n",
              "<p>5 rows × 77 columns</p>\n",
              "</div>\n",
              "    <div class=\"colab-df-buttons\">\n",
              "\n",
              "  <div class=\"colab-df-container\">\n",
              "    <button class=\"colab-df-convert\" onclick=\"convertToInteractive('df-5b53ec57-ba6e-487a-9cc7-238329c227eb')\"\n",
              "            title=\"Convert this dataframe to an interactive table.\"\n",
              "            style=\"display:none;\">\n",
              "\n",
              "  <svg xmlns=\"http://www.w3.org/2000/svg\" height=\"24px\" viewBox=\"0 -960 960 960\">\n",
              "    <path d=\"M120-120v-720h720v720H120Zm60-500h600v-160H180v160Zm220 220h160v-160H400v160Zm0 220h160v-160H400v160ZM180-400h160v-160H180v160Zm440 0h160v-160H620v160ZM180-180h160v-160H180v160Zm440 0h160v-160H620v160Z\"/>\n",
              "  </svg>\n",
              "    </button>\n",
              "\n",
              "  <style>\n",
              "    .colab-df-container {\n",
              "      display:flex;\n",
              "      gap: 12px;\n",
              "    }\n",
              "\n",
              "    .colab-df-convert {\n",
              "      background-color: #E8F0FE;\n",
              "      border: none;\n",
              "      border-radius: 50%;\n",
              "      cursor: pointer;\n",
              "      display: none;\n",
              "      fill: #1967D2;\n",
              "      height: 32px;\n",
              "      padding: 0 0 0 0;\n",
              "      width: 32px;\n",
              "    }\n",
              "\n",
              "    .colab-df-convert:hover {\n",
              "      background-color: #E2EBFA;\n",
              "      box-shadow: 0px 1px 2px rgba(60, 64, 67, 0.3), 0px 1px 3px 1px rgba(60, 64, 67, 0.15);\n",
              "      fill: #174EA6;\n",
              "    }\n",
              "\n",
              "    .colab-df-buttons div {\n",
              "      margin-bottom: 4px;\n",
              "    }\n",
              "\n",
              "    [theme=dark] .colab-df-convert {\n",
              "      background-color: #3B4455;\n",
              "      fill: #D2E3FC;\n",
              "    }\n",
              "\n",
              "    [theme=dark] .colab-df-convert:hover {\n",
              "      background-color: #434B5C;\n",
              "      box-shadow: 0px 1px 3px 1px rgba(0, 0, 0, 0.15);\n",
              "      filter: drop-shadow(0px 1px 2px rgba(0, 0, 0, 0.3));\n",
              "      fill: #FFFFFF;\n",
              "    }\n",
              "  </style>\n",
              "\n",
              "    <script>\n",
              "      const buttonEl =\n",
              "        document.querySelector('#df-5b53ec57-ba6e-487a-9cc7-238329c227eb button.colab-df-convert');\n",
              "      buttonEl.style.display =\n",
              "        google.colab.kernel.accessAllowed ? 'block' : 'none';\n",
              "\n",
              "      async function convertToInteractive(key) {\n",
              "        const element = document.querySelector('#df-5b53ec57-ba6e-487a-9cc7-238329c227eb');\n",
              "        const dataTable =\n",
              "          await google.colab.kernel.invokeFunction('convertToInteractive',\n",
              "                                                    [key], {});\n",
              "        if (!dataTable) return;\n",
              "\n",
              "        const docLinkHtml = 'Like what you see? Visit the ' +\n",
              "          '<a target=\"_blank\" href=https://colab.research.google.com/notebooks/data_table.ipynb>data table notebook</a>'\n",
              "          + ' to learn more about interactive tables.';\n",
              "        element.innerHTML = '';\n",
              "        dataTable['output_type'] = 'display_data';\n",
              "        await google.colab.output.renderOutput(dataTable, element);\n",
              "        const docLink = document.createElement('div');\n",
              "        docLink.innerHTML = docLinkHtml;\n",
              "        element.appendChild(docLink);\n",
              "      }\n",
              "    </script>\n",
              "  </div>\n",
              "\n",
              "\n",
              "<div id=\"df-ccb946bd-3092-4777-a5b8-5a95037aa062\">\n",
              "  <button class=\"colab-df-quickchart\" onclick=\"quickchart('df-ccb946bd-3092-4777-a5b8-5a95037aa062')\"\n",
              "            title=\"Suggest charts.\"\n",
              "            style=\"display:none;\">\n",
              "\n",
              "<svg xmlns=\"http://www.w3.org/2000/svg\" height=\"24px\"viewBox=\"0 0 24 24\"\n",
              "     width=\"24px\">\n",
              "    <g>\n",
              "        <path d=\"M19 3H5c-1.1 0-2 .9-2 2v14c0 1.1.9 2 2 2h14c1.1 0 2-.9 2-2V5c0-1.1-.9-2-2-2zM9 17H7v-7h2v7zm4 0h-2V7h2v10zm4 0h-2v-4h2v4z\"/>\n",
              "    </g>\n",
              "</svg>\n",
              "  </button>\n",
              "\n",
              "<style>\n",
              "  .colab-df-quickchart {\n",
              "      --bg-color: #E8F0FE;\n",
              "      --fill-color: #1967D2;\n",
              "      --hover-bg-color: #E2EBFA;\n",
              "      --hover-fill-color: #174EA6;\n",
              "      --disabled-fill-color: #AAA;\n",
              "      --disabled-bg-color: #DDD;\n",
              "  }\n",
              "\n",
              "  [theme=dark] .colab-df-quickchart {\n",
              "      --bg-color: #3B4455;\n",
              "      --fill-color: #D2E3FC;\n",
              "      --hover-bg-color: #434B5C;\n",
              "      --hover-fill-color: #FFFFFF;\n",
              "      --disabled-bg-color: #3B4455;\n",
              "      --disabled-fill-color: #666;\n",
              "  }\n",
              "\n",
              "  .colab-df-quickchart {\n",
              "    background-color: var(--bg-color);\n",
              "    border: none;\n",
              "    border-radius: 50%;\n",
              "    cursor: pointer;\n",
              "    display: none;\n",
              "    fill: var(--fill-color);\n",
              "    height: 32px;\n",
              "    padding: 0;\n",
              "    width: 32px;\n",
              "  }\n",
              "\n",
              "  .colab-df-quickchart:hover {\n",
              "    background-color: var(--hover-bg-color);\n",
              "    box-shadow: 0 1px 2px rgba(60, 64, 67, 0.3), 0 1px 3px 1px rgba(60, 64, 67, 0.15);\n",
              "    fill: var(--button-hover-fill-color);\n",
              "  }\n",
              "\n",
              "  .colab-df-quickchart-complete:disabled,\n",
              "  .colab-df-quickchart-complete:disabled:hover {\n",
              "    background-color: var(--disabled-bg-color);\n",
              "    fill: var(--disabled-fill-color);\n",
              "    box-shadow: none;\n",
              "  }\n",
              "\n",
              "  .colab-df-spinner {\n",
              "    border: 2px solid var(--fill-color);\n",
              "    border-color: transparent;\n",
              "    border-bottom-color: var(--fill-color);\n",
              "    animation:\n",
              "      spin 1s steps(1) infinite;\n",
              "  }\n",
              "\n",
              "  @keyframes spin {\n",
              "    0% {\n",
              "      border-color: transparent;\n",
              "      border-bottom-color: var(--fill-color);\n",
              "      border-left-color: var(--fill-color);\n",
              "    }\n",
              "    20% {\n",
              "      border-color: transparent;\n",
              "      border-left-color: var(--fill-color);\n",
              "      border-top-color: var(--fill-color);\n",
              "    }\n",
              "    30% {\n",
              "      border-color: transparent;\n",
              "      border-left-color: var(--fill-color);\n",
              "      border-top-color: var(--fill-color);\n",
              "      border-right-color: var(--fill-color);\n",
              "    }\n",
              "    40% {\n",
              "      border-color: transparent;\n",
              "      border-right-color: var(--fill-color);\n",
              "      border-top-color: var(--fill-color);\n",
              "    }\n",
              "    60% {\n",
              "      border-color: transparent;\n",
              "      border-right-color: var(--fill-color);\n",
              "    }\n",
              "    80% {\n",
              "      border-color: transparent;\n",
              "      border-right-color: var(--fill-color);\n",
              "      border-bottom-color: var(--fill-color);\n",
              "    }\n",
              "    90% {\n",
              "      border-color: transparent;\n",
              "      border-bottom-color: var(--fill-color);\n",
              "    }\n",
              "  }\n",
              "</style>\n",
              "\n",
              "  <script>\n",
              "    async function quickchart(key) {\n",
              "      const quickchartButtonEl =\n",
              "        document.querySelector('#' + key + ' button');\n",
              "      quickchartButtonEl.disabled = true;  // To prevent multiple clicks.\n",
              "      quickchartButtonEl.classList.add('colab-df-spinner');\n",
              "      try {\n",
              "        const charts = await google.colab.kernel.invokeFunction(\n",
              "            'suggestCharts', [key], {});\n",
              "      } catch (error) {\n",
              "        console.error('Error during call to suggestCharts:', error);\n",
              "      }\n",
              "      quickchartButtonEl.classList.remove('colab-df-spinner');\n",
              "      quickchartButtonEl.classList.add('colab-df-quickchart-complete');\n",
              "    }\n",
              "    (() => {\n",
              "      let quickchartButtonEl =\n",
              "        document.querySelector('#df-ccb946bd-3092-4777-a5b8-5a95037aa062 button');\n",
              "      quickchartButtonEl.style.display =\n",
              "        google.colab.kernel.accessAllowed ? 'block' : 'none';\n",
              "    })();\n",
              "  </script>\n",
              "</div>\n",
              "    </div>\n",
              "  </div>\n"
            ]
          },
          "metadata": {},
          "execution_count": 5
        }
      ]
    },
    {
      "cell_type": "code",
      "source": [
        "df.shape"
      ],
      "metadata": {
        "colab": {
          "base_uri": "https://localhost:8080/"
        },
        "id": "5XGmK-Omurzq",
        "outputId": "41649b57-5bc1-45bf-e270-a94a5043242e"
      },
      "execution_count": null,
      "outputs": [
        {
          "output_type": "execute_result",
          "data": {
            "text/plain": [
              "(18979, 77)"
            ]
          },
          "metadata": {},
          "execution_count": 6
        }
      ]
    },
    {
      "cell_type": "code",
      "source": [
        "df.info()"
      ],
      "metadata": {
        "colab": {
          "base_uri": "https://localhost:8080/"
        },
        "id": "2CaCBUwnu12L",
        "outputId": "1eacbe1c-22fa-4850-e8aa-e2842e4b9545"
      },
      "execution_count": null,
      "outputs": [
        {
          "output_type": "stream",
          "name": "stdout",
          "text": [
            "<class 'pandas.core.frame.DataFrame'>\n",
            "RangeIndex: 18979 entries, 0 to 18978\n",
            "Data columns (total 77 columns):\n",
            " #   Column            Non-Null Count  Dtype \n",
            "---  ------            --------------  ----- \n",
            " 0   ID                18979 non-null  int64 \n",
            " 1   Name              18979 non-null  object\n",
            " 2   LongName          18979 non-null  object\n",
            " 3   photoUrl          18979 non-null  object\n",
            " 4   playerUrl         18979 non-null  object\n",
            " 5   Nationality       18979 non-null  object\n",
            " 6   Age               18979 non-null  int64 \n",
            " 7   ↓OVA              18979 non-null  int64 \n",
            " 8   POT               18979 non-null  int64 \n",
            " 9   Club              18979 non-null  object\n",
            " 10  Contract          18979 non-null  object\n",
            " 11  Positions         18979 non-null  object\n",
            " 12  Height            18979 non-null  object\n",
            " 13  Weight            18979 non-null  object\n",
            " 14  Preferred Foot    18979 non-null  object\n",
            " 15  BOV               18979 non-null  int64 \n",
            " 16  Best Position     18979 non-null  object\n",
            " 17  Joined            18979 non-null  object\n",
            " 18  Loan Date End     1013 non-null   object\n",
            " 19  Value             18979 non-null  object\n",
            " 20  Wage              18979 non-null  object\n",
            " 21  Release Clause    18979 non-null  object\n",
            " 22  Attacking         18979 non-null  int64 \n",
            " 23  Crossing          18979 non-null  int64 \n",
            " 24  Finishing         18979 non-null  int64 \n",
            " 25  Heading Accuracy  18979 non-null  int64 \n",
            " 26  Short Passing     18979 non-null  int64 \n",
            " 27  Volleys           18979 non-null  int64 \n",
            " 28  Skill             18979 non-null  int64 \n",
            " 29  Dribbling         18979 non-null  int64 \n",
            " 30  Curve             18979 non-null  int64 \n",
            " 31  FK Accuracy       18979 non-null  int64 \n",
            " 32  Long Passing      18979 non-null  int64 \n",
            " 33  Ball Control      18979 non-null  int64 \n",
            " 34  Movement          18979 non-null  int64 \n",
            " 35  Acceleration      18979 non-null  int64 \n",
            " 36  Sprint Speed      18979 non-null  int64 \n",
            " 37  Agility           18979 non-null  int64 \n",
            " 38  Reactions         18979 non-null  int64 \n",
            " 39  Balance           18979 non-null  int64 \n",
            " 40  Power             18979 non-null  int64 \n",
            " 41  Shot Power        18979 non-null  int64 \n",
            " 42  Jumping           18979 non-null  int64 \n",
            " 43  Stamina           18979 non-null  int64 \n",
            " 44  Strength          18979 non-null  int64 \n",
            " 45  Long Shots        18979 non-null  int64 \n",
            " 46  Mentality         18979 non-null  int64 \n",
            " 47  Aggression        18979 non-null  int64 \n",
            " 48  Interceptions     18979 non-null  int64 \n",
            " 49  Positioning       18979 non-null  int64 \n",
            " 50  Vision            18979 non-null  int64 \n",
            " 51  Penalties         18979 non-null  int64 \n",
            " 52  Composure         18979 non-null  int64 \n",
            " 53  Defending         18979 non-null  int64 \n",
            " 54  Marking           18979 non-null  int64 \n",
            " 55  Standing Tackle   18979 non-null  int64 \n",
            " 56  Sliding Tackle    18979 non-null  int64 \n",
            " 57  Goalkeeping       18979 non-null  int64 \n",
            " 58  GK Diving         18979 non-null  int64 \n",
            " 59  GK Handling       18979 non-null  int64 \n",
            " 60  GK Kicking        18979 non-null  int64 \n",
            " 61  GK Positioning    18979 non-null  int64 \n",
            " 62  GK Reflexes       18979 non-null  int64 \n",
            " 63  Total Stats       18979 non-null  int64 \n",
            " 64  Base Stats        18979 non-null  int64 \n",
            " 65  W/F               18979 non-null  object\n",
            " 66  SM                18979 non-null  object\n",
            " 67  A/W               18979 non-null  object\n",
            " 68  D/W               18979 non-null  object\n",
            " 69  IR                18979 non-null  object\n",
            " 70  PAC               18979 non-null  int64 \n",
            " 71  SHO               18979 non-null  int64 \n",
            " 72  PAS               18979 non-null  int64 \n",
            " 73  DRI               18979 non-null  int64 \n",
            " 74  DEF               18979 non-null  int64 \n",
            " 75  PHY               18979 non-null  int64 \n",
            " 76  Hits              16384 non-null  object\n",
            "dtypes: int64(54), object(23)\n",
            "memory usage: 11.1+ MB\n"
          ]
        }
      ]
    },
    {
      "cell_type": "code",
      "source": [
        "df.duplicated().sum()"
      ],
      "metadata": {
        "colab": {
          "base_uri": "https://localhost:8080/"
        },
        "id": "XRItb6Qpu6LZ",
        "outputId": "72907bdd-ec4a-4015-ee0f-dd02c8a14597"
      },
      "execution_count": null,
      "outputs": [
        {
          "output_type": "execute_result",
          "data": {
            "text/plain": [
              "0"
            ]
          },
          "metadata": {},
          "execution_count": 8
        }
      ]
    },
    {
      "cell_type": "code",
      "source": [
        "df['ID'].duplicated().sum()"
      ],
      "metadata": {
        "colab": {
          "base_uri": "https://localhost:8080/"
        },
        "id": "k0G3Pz_SvE1t",
        "outputId": "e36950eb-784d-4d71-b6ee-68d70ab058e5"
      },
      "execution_count": null,
      "outputs": [
        {
          "output_type": "execute_result",
          "data": {
            "text/plain": [
              "0"
            ]
          },
          "metadata": {},
          "execution_count": 9
        }
      ]
    },
    {
      "cell_type": "markdown",
      "source": [
        "# Remove useless columns"
      ],
      "metadata": {
        "id": "4dazlRsEvhUI"
      }
    },
    {
      "cell_type": "markdown",
      "source": [
        "*photo url, if necessary, we could check that it is correct using https://cdn.sofifa.com/players/first 3 digits of ID/last 3 digits of ID/21_60.png\n",
        "\n",
        "*player url, if necessary, we could check that it is correct using http://sofifa.com/player/id/name-surname/210006/"
      ],
      "metadata": {
        "id": "rG1bsTElvwC2"
      }
    },
    {
      "cell_type": "code",
      "source": [
        "columns = ['LongName', 'photoUrl', 'playerUrl']\n",
        "df = df.drop(columns,axis = 1)"
      ],
      "metadata": {
        "id": "rjEiXpclvymo"
      },
      "execution_count": null,
      "outputs": []
    },
    {
      "cell_type": "code",
      "source": [
        "#↓OVA does not comply with the column format so we will change it to OVA\n",
        "df = df.rename(columns = {'↓OVA': \"OVA\"})"
      ],
      "metadata": {
        "id": "dSbMvEtbwJ-X"
      },
      "execution_count": null,
      "outputs": []
    },
    {
      "cell_type": "markdown",
      "source": [
        "# remove the unnecessary newline characters"
      ],
      "metadata": {
        "id": "nT-x-TRYyyWc"
      }
    },
    {
      "cell_type": "code",
      "source": [
        "df['Club'] = df['Club'].str.strip('\\n')"
      ],
      "metadata": {
        "id": "RsmFP4Z2y3Ev"
      },
      "execution_count": null,
      "outputs": []
    },
    {
      "cell_type": "markdown",
      "source": [
        "# Convert the height and weight columns to numerical forms"
      ],
      "metadata": {
        "id": "EzJ3afGSxEiu"
      }
    },
    {
      "cell_type": "code",
      "source": [
        "df['Height'] = df['Height'].str.strip('cm')\n",
        "df['Height'].unique()"
      ],
      "metadata": {
        "id": "EL45JI4GxIx0",
        "outputId": "42ebb3f6-7ba1-4cce-947c-b3bd349480e8",
        "colab": {
          "base_uri": "https://localhost:8080/"
        }
      },
      "execution_count": null,
      "outputs": [
        {
          "output_type": "execute_result",
          "data": {
            "text/plain": [
              "array(['170', '187', '188', '181', '175', '184', '191', '178', '193',\n",
              "       '185', '199', '173', '168', '176', '177', '183', '180', '189',\n",
              "       '179', '195', '172', '182', '186', '192', '165', '194', '167',\n",
              "       '196', '163', '190', '174', '169', '171', '197', '200', '166',\n",
              "       '6\\'2\"', '164', '198', '6\\'3\"', '6\\'5\"', '5\\'11\"', '6\\'4\"',\n",
              "       '6\\'1\"', '6\\'0\"', '5\\'10\"', '5\\'9\"', '5\\'6\"', '5\\'7\"', '5\\'4\"',\n",
              "       '201', '158', '162', '161', '160', '203', '157', '156', '202',\n",
              "       '159', '206', '155'], dtype=object)"
            ]
          },
          "metadata": {},
          "execution_count": 16
        }
      ]
    },
    {
      "cell_type": "code",
      "source": [
        "def ft_to_cm(x):\n",
        "  if \"'\" in x:\n",
        "    ft = x.replace(\"'\",\".\").replace('\"',\"\")\n",
        "    cm = round(float(ft)* 30.48,0)\n",
        "    return int(cm)\n",
        "  else:\n",
        "    return int(x)\n"
      ],
      "metadata": {
        "id": "eWakFEmaxZzK"
      },
      "execution_count": null,
      "outputs": []
    },
    {
      "cell_type": "code",
      "source": [
        "df['Height'] = df['Height'].apply(ft_to_cm)\n",
        "df['Height'].unique()"
      ],
      "metadata": {
        "id": "rHPM6rdkzBTn",
        "outputId": "5d53eebd-1fdb-4435-b15e-884d4c58075c",
        "colab": {
          "base_uri": "https://localhost:8080/"
        }
      },
      "execution_count": null,
      "outputs": [
        {
          "output_type": "execute_result",
          "data": {
            "text/plain": [
              "array([170, 187, 188, 181, 175, 184, 191, 178, 193, 185, 199, 173, 168,\n",
              "       176, 177, 183, 180, 189, 179, 195, 172, 182, 186, 192, 165, 194,\n",
              "       167, 196, 163, 190, 174, 169, 171, 197, 200, 166, 164, 198, 156,\n",
              "       155, 201, 158, 162, 161, 160, 203, 157, 202, 159, 206])"
            ]
          },
          "metadata": {},
          "execution_count": 18
        }
      ]
    },
    {
      "cell_type": "code",
      "source": [
        "df['Weight'] = df['Weight'].str.strip('kg')\n",
        "df['Weight'].unique()"
      ],
      "metadata": {
        "id": "ANgIkxwOyAs3",
        "outputId": "2661eb22-cf25-48f4-c558-8cdbdd00018d",
        "colab": {
          "base_uri": "https://localhost:8080/"
        }
      },
      "execution_count": null,
      "outputs": [
        {
          "output_type": "execute_result",
          "data": {
            "text/plain": [
              "array(['72', '83', '87', '70', '68', '80', '71', '91', '73', '85', '92',\n",
              "       '69', '84', '96', '81', '82', '75', '86', '89', '74', '76', '64',\n",
              "       '78', '90', '66', '60', '94', '79', '67', '65', '59', '61', '93',\n",
              "       '88', '97', '77', '62', '63', '95', '100', '58', '183lbs',\n",
              "       '179lbs', '172lbs', '196lbs', '176lbs', '185lbs', '170lbs',\n",
              "       '203lbs', '168lbs', '161lbs', '146lbs', '130lbs', '190lbs',\n",
              "       '174lbs', '148lbs', '165lbs', '159lbs', '192lbs', '181lbs',\n",
              "       '139lbs', '154lbs', '157lbs', '163lbs', '98', '103', '99', '102',\n",
              "       '56', '101', '57', '55', '104', '107', '110', '53', '50', '54',\n",
              "       '52'], dtype=object)"
            ]
          },
          "metadata": {},
          "execution_count": 19
        }
      ]
    },
    {
      "cell_type": "code",
      "source": [
        "def lbs_to_kg(x):\n",
        "  if 'lbs' in x:\n",
        "    lbs = x.replace('lbs','')\n",
        "    kilograms = round(int(lbs)/2.2,0)\n",
        "    return int(kilograms)\n",
        "  else:\n",
        "    return int(x)\n",
        "\n",
        "df['Weight'] = df['Weight'].apply(lbs_to_kg)\n",
        "df['Weight'].unique()"
      ],
      "metadata": {
        "id": "GgPu1A9Mzf7G",
        "outputId": "06f3c3b6-fb0f-4a00-aabd-38c5bc5909f1",
        "colab": {
          "base_uri": "https://localhost:8080/"
        }
      },
      "execution_count": null,
      "outputs": [
        {
          "output_type": "execute_result",
          "data": {
            "text/plain": [
              "array([ 72,  83,  87,  70,  68,  80,  71,  91,  73,  85,  92,  69,  84,\n",
              "        96,  81,  82,  75,  86,  89,  74,  76,  64,  78,  90,  66,  60,\n",
              "        94,  79,  67,  65,  59,  61,  93,  88,  97,  77,  62,  63,  95,\n",
              "       100,  58,  98, 103,  99, 102,  56, 101,  57,  55, 104, 107, 110,\n",
              "        53,  50,  54,  52])"
            ]
          },
          "metadata": {},
          "execution_count": 20
        }
      ]
    },
    {
      "cell_type": "markdown",
      "source": [
        "# 'Value', 'Wage' and \"Release Clause' are string columns. Convert them to numbers. For eg, \"M\" in value column is Million, so multiply the row values by 1,000,000, etc"
      ],
      "metadata": {
        "id": "ZYoAjI850QuD"
      }
    },
    {
      "cell_type": "code",
      "source": [
        "def money(x):\n",
        "  if '€' in x:\n",
        "    x = x.replace('€','')\n",
        "  if 'M' in x:\n",
        "    x = x.replace('M','')\n",
        "    x = float(x)*1000000\n",
        "    return int(x)\n",
        "\n",
        "  elif 'K' in x:\n",
        "    x = x.replace('K','')\n",
        "    x = float(x) * 1000\n",
        "    return int(x)\n",
        "  else:\n",
        "    return int(x)\n"
      ],
      "metadata": {
        "id": "LjzYmgdO0V2k"
      },
      "execution_count": null,
      "outputs": []
    },
    {
      "cell_type": "code",
      "source": [
        "df['Value'] = df['Value'].apply(money)\n",
        "df['Wage'] = df['Wage'].apply(money)\n",
        "df['Release Clause'] = df['Release Clause'].apply(money)"
      ],
      "metadata": {
        "id": "s3-ZeSva12v_"
      },
      "execution_count": null,
      "outputs": []
    },
    {
      "cell_type": "code",
      "source": [
        "df['Value'].unique()"
      ],
      "metadata": {
        "id": "9OHn82vw2J3E",
        "outputId": "7dbfcd82-75c7-4bc9-f9f9-69eacb4ecf64",
        "colab": {
          "base_uri": "https://localhost:8080/"
        }
      },
      "execution_count": null,
      "outputs": [
        {
          "output_type": "execute_result",
          "data": {
            "text/plain": [
              "array([103500000,  63000000, 120000000, 129000000, 132000000, 111000000,\n",
              "       120500000, 102000000, 185500000, 110000000, 113000000,  90500000,\n",
              "        82000000,  17500000,  83500000,  33500000, 114500000,  78000000,\n",
              "       103000000, 109000000,  92000000,  10000000,  76500000,  89500000,\n",
              "        87500000,  79500000, 124000000, 114000000,  95000000,  92500000,\n",
              "       105500000,  88500000,  85000000,  81500000,  26000000,  21000000,\n",
              "        56000000,  67500000,  53000000,  36500000,  51000000,  65500000,\n",
              "        46500000,  61500000,  72500000,  77500000,  43500000,  32500000,\n",
              "        36000000,  32000000,  54000000,  49500000,  57000000,  66500000,\n",
              "        74500000,  71500000, 121000000,  99000000,  67000000,  86500000,\n",
              "        93500000,  70000000,  62000000,  66000000,  58000000,  44000000,\n",
              "        81000000,  37000000,  14500000,  46000000,  47500000,  52500000,\n",
              "        54500000,  34500000,  57500000,  51500000,  44500000,  55000000,\n",
              "        48000000,  60500000,  63500000,  61000000,  29000000,  58500000,\n",
              "        55500000,  42000000,  40500000,  43000000,  45500000,  34000000,\n",
              "        26500000,  42500000,  35500000,  45000000,  41500000,  40000000,\n",
              "        11000000,  13500000,  29500000,  27000000,  15500000,  38500000,\n",
              "        52000000,  33000000,  19000000,  73500000,  38000000,  35000000,\n",
              "        47000000,  24000000,  30500000,  18000000,  28000000,  25500000,\n",
              "        25000000,  31000000,  23500000,  30000000,  31500000,  22500000,\n",
              "        28500000,   4000000,  12500000,  37500000,  27500000,  16000000,\n",
              "        15000000,  20500000,  22000000,   3400000,   5000000,  56500000,\n",
              "        62500000,         0,  39000000,  24500000,  21500000,  13000000,\n",
              "         8000000,  20000000,   8500000,   2900000,   9000000,   4600000,\n",
              "        50000000,  23000000,  18500000,   7000000,  19500000,   5500000,\n",
              "         7500000,   3800000,  14000000,  10500000,  16500000,   3600000,\n",
              "         9500000,  39500000,  17000000,  12000000,  11500000,   4900000,\n",
              "         3000000,   1900000,   6500000,   1700000,   2400000,   3100000,\n",
              "         6000000,   3700000,   4700000,   4300000,   2100000,   1200000,\n",
              "         1800000,   4800000,   3200000,   1300000,    825000,   2300000,\n",
              "         1500000,   3900000,   2600000,   3500000,   2800000,   2700000,\n",
              "         4400000,   4099999,    950000,   1600000,    625000,   1100000,\n",
              "         4500000,   4200000,   2200000,   3300000,   1400000,   2000000,\n",
              "          475000,    925000,    750000,    725000,   2500000,   1000000,\n",
              "          350000,    525000,    600000,    850000,    800000,    550000,\n",
              "          250000,    400000,    425000,    575000,    210000,    325000,\n",
              "          900000,    875000,    650000,    700000,    500000,    975000,\n",
              "          375000,    775000,    275000,    180000,    450000,    675000,\n",
              "          150000,    240000,    300000,    130000,    220000,    200000,\n",
              "          110000,    170000,    230000,     90000,    120000,     80000,\n",
              "          190000,    140000,    160000,    100000,     60000,     50000,\n",
              "           70000,     45000,     35000,     40000,     25000,     20000,\n",
              "           15000,     30000,      9000])"
            ]
          },
          "metadata": {},
          "execution_count": 23
        }
      ]
    },
    {
      "cell_type": "markdown",
      "source": [
        "# Some columns have 'star' characters. Strip those columns of these stars and make the columns numerical"
      ],
      "metadata": {
        "id": "2xPkk_F32XJE"
      }
    },
    {
      "cell_type": "code",
      "source": [
        "df['W/F'] = df['W/F'].str.replace('★','')\n",
        "df['SM'] = df['SM'].str.replace('★','')\n",
        "df['IR'] = df['IR'].str.replace('★','')"
      ],
      "metadata": {
        "id": "9Y8GsSol2N3y"
      },
      "execution_count": null,
      "outputs": []
    },
    {
      "cell_type": "code",
      "source": [
        "df.Contract.unique()"
      ],
      "metadata": {
        "id": "GizJGkMU26cg",
        "outputId": "d689df0d-bc6b-44fd-9e6d-1cdbbbd7740b",
        "colab": {
          "base_uri": "https://localhost:8080/"
        }
      },
      "execution_count": null,
      "outputs": [
        {
          "output_type": "execute_result",
          "data": {
            "text/plain": [
              "array(['2004 ~ 2021', '2018 ~ 2022', '2014 ~ 2023', '2015 ~ 2023',\n",
              "       '2017 ~ 2022', '2017 ~ 2023', '2018 ~ 2024', '2014 ~ 2022',\n",
              "       '2018 ~ 2023', '2016 ~ 2023', '2013 ~ 2023', '2011 ~ 2023',\n",
              "       '2009 ~ 2022', '2005 ~ 2021', '2011 ~ 2021', '2015 ~ 2022',\n",
              "       '2017 ~ 2024', '2010 ~ 2024', '2012 ~ 2021', '2019 ~ 2024',\n",
              "       '2015 ~ 2024', '2017 ~ 2025', '2020 ~ 2025', '2019 ~ 2023',\n",
              "       '2008 ~ 2023', '2015 ~ 2021', '2020 ~ 2022', '2012 ~ 2022',\n",
              "       '2016 ~ 2025', '2013 ~ 2022', '2011 ~ 2022', '2012 ~ 2024',\n",
              "       '2016 ~ 2021', '2012 ~ 2023', '2008 ~ 2022', '2019 ~ 2022',\n",
              "       '2017 ~ 2021', '2013 ~ 2024', '2020 ~ 2024', '2010 ~ 2022',\n",
              "       '2020 ~ 2021', '2011 ~ 2024', '2020 ~ 2023', '2014 ~ 2024',\n",
              "       '2013 ~ 2026', '2016 ~ 2022', '2010 ~ 2021', '2013 ~ 2021',\n",
              "       '2019 ~ 2025', '2018 ~ 2025', '2016 ~ 2024', '2018 ~ 2021',\n",
              "       '2009 ~ 2024', '2007 ~ 2022', 'Jun 30, 2021 On Loan',\n",
              "       '2009 ~ 2021', '2019 ~ 2021', '2019 ~ 2026', 'Free', '2012 ~ 2028',\n",
              "       '2010 ~ 2023', '2014 ~ 2021', '2015 ~ 2025', '2014 ~ 2026',\n",
              "       '2012 ~ 2025', '2017 ~ 2020', '2002 ~ 2022', '2020 ~ 2027',\n",
              "       '2013 ~ 2025', 'Dec 31, 2020 On Loan', '2019 ~ 2020',\n",
              "       '2011 ~ 2025', '2016 ~ 2020', '2007 ~ 2021', '2020 ~ 2026',\n",
              "       '2010 ~ 2025', '2009 ~ 2023', '2008 ~ 2021', '2020 ~ 2020',\n",
              "       '2016 ~ 2026', 'Jan 30, 2021 On Loan', '2012 ~ 2020',\n",
              "       '2014 ~ 2025', 'Jun 30, 2022 On Loan', '2015 ~ 2020',\n",
              "       'May 31, 2021 On Loan', '2018 ~ 2020', '2014 ~ 2020',\n",
              "       '2013 ~ 2020', '2006 ~ 2024', 'Jul 5, 2021 On Loan',\n",
              "       'Dec 31, 2021 On Loan', '2004 ~ 2025', '2011 ~ 2020',\n",
              "       'Jul 1, 2021 On Loan', 'Jan 1, 2021 On Loan', '2006 ~ 2023',\n",
              "       'Aug 31, 2021 On Loan', '2006 ~ 2021', '2005 ~ 2023',\n",
              "       '2003 ~ 2020', '2009 ~ 2020', '2002 ~ 2020', '2005 ~ 2020',\n",
              "       '2005 ~ 2022', 'Jan 31, 2021 On Loan', '2010 ~ 2020',\n",
              "       'Dec 30, 2021 On Loan', '2008 ~ 2020', '2007 ~ 2020',\n",
              "       '2003 ~ 2021', 'Jun 23, 2021 On Loan', 'Jan 3, 2021 On Loan',\n",
              "       'Nov 27, 2021 On Loan', '2002 ~ 2021', 'Jan 17, 2021 On Loan',\n",
              "       'Jun 30, 2023 On Loan', '1998 ~ 2021', '2003 ~ 2022',\n",
              "       '2007 ~ 2023', 'Jul 31, 2021 On Loan', 'Nov 22, 2020 On Loan',\n",
              "       'May 31, 2022 On Loan', '2006 ~ 2020', 'Dec 30, 2020 On Loan',\n",
              "       '2007 ~ 2025', 'Jan 4, 2021 On Loan', 'Nov 30, 2020 On Loan',\n",
              "       '2004 ~ 2020', '2009 ~ 2025', 'Aug 1, 2021 On Loan'], dtype=object)"
            ]
          },
          "metadata": {},
          "execution_count": 25
        }
      ]
    },
    {
      "cell_type": "markdown",
      "source": [
        "# Split contract column"
      ],
      "metadata": {
        "id": "lG6s_A3OZO-w"
      }
    },
    {
      "cell_type": "code",
      "source": [
        "def type(x):\n",
        "  if \"Free\" in x:\n",
        "    return \"Free\"\n",
        "  if \"Loan\" in x:\n",
        "    return \"Loan\"\n",
        "  if \"~\" in x:\n",
        "    return \"Contract\"\n",
        "  else:\n",
        "    return pd.na"
      ],
      "metadata": {
        "id": "Jf_08zsgZQWN"
      },
      "execution_count": 23,
      "outputs": []
    },
    {
      "cell_type": "code",
      "source": [
        "def start_time_contract(x):\n",
        "  if \"~\" in x:\n",
        "    return int(x[:4])\n",
        "  if \"Loan\" in x:\n",
        "    x = x.strip(\"On Loan\")\n",
        "    x = datetime.strptime(x, '%b %d, %Y')\n",
        "    return x.date()\n",
        "  else:\n",
        "    return pd.NA\n",
        "\n",
        "def end_time_contract(type, contract, loan):\n",
        "  if type ==\"Contract\":\n",
        "    return int(contract[-4:])\n",
        "  if type ==\"Loan\":\n",
        "    loan = datetime.strptime(loan, '%b %d, %Y')\n",
        "    return loan.date()\n",
        "  else:\n",
        "    return pd.NA"
      ],
      "metadata": {
        "id": "KBJAiR3oZxbz"
      },
      "execution_count": 24,
      "outputs": []
    },
    {
      "cell_type": "code",
      "source": [
        "df['Type of contract'] = df['Contract'].apply(type)\n",
        "df['Start year'] = df['Contract'].apply(start_time_contract)\n",
        "df['End year'] = df.apply(lambda row: end_time_contract(row['Type of contract'],\n",
        "                                                        row['Contract'], row['Loan Date End']), axis = 1)"
      ],
      "metadata": {
        "id": "1n8cBK6ub8m9"
      },
      "execution_count": 25,
      "outputs": []
    },
    {
      "cell_type": "code",
      "source": [
        "df = df[list(df.columns[:7]) + list(df.columns[-3:]) + list(df.columns[8:-3])]\n",
        "df = df.drop(columns = ['Loan Date End'])"
      ],
      "metadata": {
        "id": "Sbz0iRH4cwSp"
      },
      "execution_count": 26,
      "outputs": []
    },
    {
      "cell_type": "markdown",
      "source": [
        "Because the metrics within FIFA have a range from 0 to 99, a better representation of their sum would be an average"
      ],
      "metadata": {
        "id": "P4sCGKC7eddD"
      }
    },
    {
      "cell_type": "code",
      "source": [
        "df['Attacking'] = round(df['Attacking']/5,0)\n",
        "df['Attacking'] = df['Attacking'].astype('int64')\n",
        "\n",
        "df['Skill'] = df['Skill']/5\n",
        "df['Skill'] = df['Skill'].astype('int64')\n",
        "\n",
        "df[\"Movement\"]=df[\"Movement\"]/5\n",
        "df[\"Movement\"]=df[\"Movement\"].astype(\"int64\")\n",
        "\n",
        "df[\"Power\"]=df[\"Power\"]/5\n",
        "df[\"Power\"]=df[\"Power\"].astype(\"int64\")\n",
        "\n",
        "df[\"Mentality\"]=df[\"Mentality\"]/6\n",
        "df[\"Mentality\"]=df[\"Mentality\"].astype(\"int64\")\n",
        "\n",
        "df[\"Defending\"]=df[\"Defending\"]/3\n",
        "df[\"Defending\"]=df[\"Defending\"].astype(\"int64\")\n",
        "\n",
        "df[\"Goalkeeping\"] = df[\"Goalkeeping\"]/5\n",
        "df[\"Goalkeeping\"] = df[\"Goalkeeping\"].astype(\"int64\")"
      ],
      "metadata": {
        "id": "69wtvcZreeEq"
      },
      "execution_count": 27,
      "outputs": []
    },
    {
      "cell_type": "code",
      "source": [
        "df=df.rename(columns = {'Attacking':'Attacking AVG', \"Skill\":\"Skill AVG\", \"Movement\":\"Movement AVG\",\n",
        "                        'Power':'Power AVG', \"Mentality\":\"Mentality AVG\", \"Defending\":\"Defending AVG\", \"Goalkeeping\":\"Goalkeeping AVG\"})"
      ],
      "metadata": {
        "id": "J3gpG600fm8u"
      },
      "execution_count": 28,
      "outputs": []
    },
    {
      "cell_type": "markdown",
      "source": [
        "Finally, the clean dataset"
      ],
      "metadata": {
        "id": "shxjoTdWhS9F"
      }
    },
    {
      "cell_type": "code",
      "source": [
        "df"
      ],
      "metadata": {
        "id": "ynR77wUNhVyK",
        "outputId": "eb0dac07-897b-4362-b54a-874de42d3bc2",
        "colab": {
          "base_uri": "https://localhost:8080/",
          "height": 617
        }
      },
      "execution_count": 29,
      "outputs": [
        {
          "output_type": "execute_result",
          "data": {
            "text/plain": [
              "           ID               Name Nationality  Age  OVA  POT  \\\n",
              "0      158023           L. Messi   Argentina   33   93   93   \n",
              "1       20801  Cristiano Ronaldo    Portugal   35   92   92   \n",
              "2      200389           J. Oblak    Slovenia   27   91   93   \n",
              "3      192985       K. De Bruyne     Belgium   29   91   91   \n",
              "4      190871          Neymar Jr      Brazil   28   91   91   \n",
              "...       ...                ...         ...  ...  ...  ...   \n",
              "18974  247223             Xia Ao    China PR   21   47   55   \n",
              "18975  258760           B. Hough     England   17   47   67   \n",
              "18976  252757        R. McKinley     England   18   47   65   \n",
              "18977  243790       Wang Zhen'ao    China PR   20   47   57   \n",
              "18978  252520          Zhou Xiao    China PR   21   47   57   \n",
              "\n",
              "                      Club Type of contract Start year End year  ...     A/W  \\\n",
              "0             FC Barcelona         Contract       2004     2021  ...  Medium   \n",
              "1                 Juventus         Contract       2018     2022  ...    High   \n",
              "2          Atlético Madrid         Contract       2014     2023  ...  Medium   \n",
              "3          Manchester City         Contract       2015     2023  ...    High   \n",
              "4      Paris Saint-Germain         Contract       2017     2022  ...    High   \n",
              "...                    ...              ...        ...      ...  ...     ...   \n",
              "18974           Wuhan Zall         Contract       2018     2022  ...  Medium   \n",
              "18975      Oldham Athletic         Contract       2020     2021  ...  Medium   \n",
              "18976           Derry City         Contract       2019     2020  ...  Medium   \n",
              "18977     Dalian YiFang FC         Contract       2020     2022  ...  Medium   \n",
              "18978     Dalian YiFang FC         Contract       2019     2023  ...  Medium   \n",
              "\n",
              "          D/W  IR PAC  SHO PAS DRI  DEF  PHY  Hits  \n",
              "0         Low  5   85   92  91  95   38   65   771  \n",
              "1         Low  5   89   93  81  89   35   77   562  \n",
              "2      Medium  3   87   92  78  90   52   90   150  \n",
              "3        High  4   76   86  93  88   64   78   207  \n",
              "4      Medium  5   91   85  86  94   36   59   595  \n",
              "...       ...  ..  ..  ...  ..  ..  ...  ...   ...  \n",
              "18974  Medium  1   64   28  26  38   48   51   NaN  \n",
              "18975  Medium  1   64   40  48  49   35   45   NaN  \n",
              "18976  Medium  1   63   39  44  46   40   53   NaN  \n",
              "18977  Medium  1   58   49  41  49   30   44   NaN  \n",
              "18978  Medium  1   62   22  39  42   45   55   NaN  \n",
              "\n",
              "[18979 rows x 75 columns]"
            ],
            "text/html": [
              "\n",
              "  <div id=\"df-b3491131-1878-4b9b-bd8d-efe28c2cf51b\" class=\"colab-df-container\">\n",
              "    <div>\n",
              "<style scoped>\n",
              "    .dataframe tbody tr th:only-of-type {\n",
              "        vertical-align: middle;\n",
              "    }\n",
              "\n",
              "    .dataframe tbody tr th {\n",
              "        vertical-align: top;\n",
              "    }\n",
              "\n",
              "    .dataframe thead th {\n",
              "        text-align: right;\n",
              "    }\n",
              "</style>\n",
              "<table border=\"1\" class=\"dataframe\">\n",
              "  <thead>\n",
              "    <tr style=\"text-align: right;\">\n",
              "      <th></th>\n",
              "      <th>ID</th>\n",
              "      <th>Name</th>\n",
              "      <th>Nationality</th>\n",
              "      <th>Age</th>\n",
              "      <th>OVA</th>\n",
              "      <th>POT</th>\n",
              "      <th>Club</th>\n",
              "      <th>Type of contract</th>\n",
              "      <th>Start year</th>\n",
              "      <th>End year</th>\n",
              "      <th>...</th>\n",
              "      <th>A/W</th>\n",
              "      <th>D/W</th>\n",
              "      <th>IR</th>\n",
              "      <th>PAC</th>\n",
              "      <th>SHO</th>\n",
              "      <th>PAS</th>\n",
              "      <th>DRI</th>\n",
              "      <th>DEF</th>\n",
              "      <th>PHY</th>\n",
              "      <th>Hits</th>\n",
              "    </tr>\n",
              "  </thead>\n",
              "  <tbody>\n",
              "    <tr>\n",
              "      <th>0</th>\n",
              "      <td>158023</td>\n",
              "      <td>L. Messi</td>\n",
              "      <td>Argentina</td>\n",
              "      <td>33</td>\n",
              "      <td>93</td>\n",
              "      <td>93</td>\n",
              "      <td>FC Barcelona</td>\n",
              "      <td>Contract</td>\n",
              "      <td>2004</td>\n",
              "      <td>2021</td>\n",
              "      <td>...</td>\n",
              "      <td>Medium</td>\n",
              "      <td>Low</td>\n",
              "      <td>5</td>\n",
              "      <td>85</td>\n",
              "      <td>92</td>\n",
              "      <td>91</td>\n",
              "      <td>95</td>\n",
              "      <td>38</td>\n",
              "      <td>65</td>\n",
              "      <td>771</td>\n",
              "    </tr>\n",
              "    <tr>\n",
              "      <th>1</th>\n",
              "      <td>20801</td>\n",
              "      <td>Cristiano Ronaldo</td>\n",
              "      <td>Portugal</td>\n",
              "      <td>35</td>\n",
              "      <td>92</td>\n",
              "      <td>92</td>\n",
              "      <td>Juventus</td>\n",
              "      <td>Contract</td>\n",
              "      <td>2018</td>\n",
              "      <td>2022</td>\n",
              "      <td>...</td>\n",
              "      <td>High</td>\n",
              "      <td>Low</td>\n",
              "      <td>5</td>\n",
              "      <td>89</td>\n",
              "      <td>93</td>\n",
              "      <td>81</td>\n",
              "      <td>89</td>\n",
              "      <td>35</td>\n",
              "      <td>77</td>\n",
              "      <td>562</td>\n",
              "    </tr>\n",
              "    <tr>\n",
              "      <th>2</th>\n",
              "      <td>200389</td>\n",
              "      <td>J. Oblak</td>\n",
              "      <td>Slovenia</td>\n",
              "      <td>27</td>\n",
              "      <td>91</td>\n",
              "      <td>93</td>\n",
              "      <td>Atlético Madrid</td>\n",
              "      <td>Contract</td>\n",
              "      <td>2014</td>\n",
              "      <td>2023</td>\n",
              "      <td>...</td>\n",
              "      <td>Medium</td>\n",
              "      <td>Medium</td>\n",
              "      <td>3</td>\n",
              "      <td>87</td>\n",
              "      <td>92</td>\n",
              "      <td>78</td>\n",
              "      <td>90</td>\n",
              "      <td>52</td>\n",
              "      <td>90</td>\n",
              "      <td>150</td>\n",
              "    </tr>\n",
              "    <tr>\n",
              "      <th>3</th>\n",
              "      <td>192985</td>\n",
              "      <td>K. De Bruyne</td>\n",
              "      <td>Belgium</td>\n",
              "      <td>29</td>\n",
              "      <td>91</td>\n",
              "      <td>91</td>\n",
              "      <td>Manchester City</td>\n",
              "      <td>Contract</td>\n",
              "      <td>2015</td>\n",
              "      <td>2023</td>\n",
              "      <td>...</td>\n",
              "      <td>High</td>\n",
              "      <td>High</td>\n",
              "      <td>4</td>\n",
              "      <td>76</td>\n",
              "      <td>86</td>\n",
              "      <td>93</td>\n",
              "      <td>88</td>\n",
              "      <td>64</td>\n",
              "      <td>78</td>\n",
              "      <td>207</td>\n",
              "    </tr>\n",
              "    <tr>\n",
              "      <th>4</th>\n",
              "      <td>190871</td>\n",
              "      <td>Neymar Jr</td>\n",
              "      <td>Brazil</td>\n",
              "      <td>28</td>\n",
              "      <td>91</td>\n",
              "      <td>91</td>\n",
              "      <td>Paris Saint-Germain</td>\n",
              "      <td>Contract</td>\n",
              "      <td>2017</td>\n",
              "      <td>2022</td>\n",
              "      <td>...</td>\n",
              "      <td>High</td>\n",
              "      <td>Medium</td>\n",
              "      <td>5</td>\n",
              "      <td>91</td>\n",
              "      <td>85</td>\n",
              "      <td>86</td>\n",
              "      <td>94</td>\n",
              "      <td>36</td>\n",
              "      <td>59</td>\n",
              "      <td>595</td>\n",
              "    </tr>\n",
              "    <tr>\n",
              "      <th>...</th>\n",
              "      <td>...</td>\n",
              "      <td>...</td>\n",
              "      <td>...</td>\n",
              "      <td>...</td>\n",
              "      <td>...</td>\n",
              "      <td>...</td>\n",
              "      <td>...</td>\n",
              "      <td>...</td>\n",
              "      <td>...</td>\n",
              "      <td>...</td>\n",
              "      <td>...</td>\n",
              "      <td>...</td>\n",
              "      <td>...</td>\n",
              "      <td>...</td>\n",
              "      <td>...</td>\n",
              "      <td>...</td>\n",
              "      <td>...</td>\n",
              "      <td>...</td>\n",
              "      <td>...</td>\n",
              "      <td>...</td>\n",
              "      <td>...</td>\n",
              "    </tr>\n",
              "    <tr>\n",
              "      <th>18974</th>\n",
              "      <td>247223</td>\n",
              "      <td>Xia Ao</td>\n",
              "      <td>China PR</td>\n",
              "      <td>21</td>\n",
              "      <td>47</td>\n",
              "      <td>55</td>\n",
              "      <td>Wuhan Zall</td>\n",
              "      <td>Contract</td>\n",
              "      <td>2018</td>\n",
              "      <td>2022</td>\n",
              "      <td>...</td>\n",
              "      <td>Medium</td>\n",
              "      <td>Medium</td>\n",
              "      <td>1</td>\n",
              "      <td>64</td>\n",
              "      <td>28</td>\n",
              "      <td>26</td>\n",
              "      <td>38</td>\n",
              "      <td>48</td>\n",
              "      <td>51</td>\n",
              "      <td>NaN</td>\n",
              "    </tr>\n",
              "    <tr>\n",
              "      <th>18975</th>\n",
              "      <td>258760</td>\n",
              "      <td>B. Hough</td>\n",
              "      <td>England</td>\n",
              "      <td>17</td>\n",
              "      <td>47</td>\n",
              "      <td>67</td>\n",
              "      <td>Oldham Athletic</td>\n",
              "      <td>Contract</td>\n",
              "      <td>2020</td>\n",
              "      <td>2021</td>\n",
              "      <td>...</td>\n",
              "      <td>Medium</td>\n",
              "      <td>Medium</td>\n",
              "      <td>1</td>\n",
              "      <td>64</td>\n",
              "      <td>40</td>\n",
              "      <td>48</td>\n",
              "      <td>49</td>\n",
              "      <td>35</td>\n",
              "      <td>45</td>\n",
              "      <td>NaN</td>\n",
              "    </tr>\n",
              "    <tr>\n",
              "      <th>18976</th>\n",
              "      <td>252757</td>\n",
              "      <td>R. McKinley</td>\n",
              "      <td>England</td>\n",
              "      <td>18</td>\n",
              "      <td>47</td>\n",
              "      <td>65</td>\n",
              "      <td>Derry City</td>\n",
              "      <td>Contract</td>\n",
              "      <td>2019</td>\n",
              "      <td>2020</td>\n",
              "      <td>...</td>\n",
              "      <td>Medium</td>\n",
              "      <td>Medium</td>\n",
              "      <td>1</td>\n",
              "      <td>63</td>\n",
              "      <td>39</td>\n",
              "      <td>44</td>\n",
              "      <td>46</td>\n",
              "      <td>40</td>\n",
              "      <td>53</td>\n",
              "      <td>NaN</td>\n",
              "    </tr>\n",
              "    <tr>\n",
              "      <th>18977</th>\n",
              "      <td>243790</td>\n",
              "      <td>Wang Zhen'ao</td>\n",
              "      <td>China PR</td>\n",
              "      <td>20</td>\n",
              "      <td>47</td>\n",
              "      <td>57</td>\n",
              "      <td>Dalian YiFang FC</td>\n",
              "      <td>Contract</td>\n",
              "      <td>2020</td>\n",
              "      <td>2022</td>\n",
              "      <td>...</td>\n",
              "      <td>Medium</td>\n",
              "      <td>Medium</td>\n",
              "      <td>1</td>\n",
              "      <td>58</td>\n",
              "      <td>49</td>\n",
              "      <td>41</td>\n",
              "      <td>49</td>\n",
              "      <td>30</td>\n",
              "      <td>44</td>\n",
              "      <td>NaN</td>\n",
              "    </tr>\n",
              "    <tr>\n",
              "      <th>18978</th>\n",
              "      <td>252520</td>\n",
              "      <td>Zhou Xiao</td>\n",
              "      <td>China PR</td>\n",
              "      <td>21</td>\n",
              "      <td>47</td>\n",
              "      <td>57</td>\n",
              "      <td>Dalian YiFang FC</td>\n",
              "      <td>Contract</td>\n",
              "      <td>2019</td>\n",
              "      <td>2023</td>\n",
              "      <td>...</td>\n",
              "      <td>Medium</td>\n",
              "      <td>Medium</td>\n",
              "      <td>1</td>\n",
              "      <td>62</td>\n",
              "      <td>22</td>\n",
              "      <td>39</td>\n",
              "      <td>42</td>\n",
              "      <td>45</td>\n",
              "      <td>55</td>\n",
              "      <td>NaN</td>\n",
              "    </tr>\n",
              "  </tbody>\n",
              "</table>\n",
              "<p>18979 rows × 75 columns</p>\n",
              "</div>\n",
              "    <div class=\"colab-df-buttons\">\n",
              "\n",
              "  <div class=\"colab-df-container\">\n",
              "    <button class=\"colab-df-convert\" onclick=\"convertToInteractive('df-b3491131-1878-4b9b-bd8d-efe28c2cf51b')\"\n",
              "            title=\"Convert this dataframe to an interactive table.\"\n",
              "            style=\"display:none;\">\n",
              "\n",
              "  <svg xmlns=\"http://www.w3.org/2000/svg\" height=\"24px\" viewBox=\"0 -960 960 960\">\n",
              "    <path d=\"M120-120v-720h720v720H120Zm60-500h600v-160H180v160Zm220 220h160v-160H400v160Zm0 220h160v-160H400v160ZM180-400h160v-160H180v160Zm440 0h160v-160H620v160ZM180-180h160v-160H180v160Zm440 0h160v-160H620v160Z\"/>\n",
              "  </svg>\n",
              "    </button>\n",
              "\n",
              "  <style>\n",
              "    .colab-df-container {\n",
              "      display:flex;\n",
              "      gap: 12px;\n",
              "    }\n",
              "\n",
              "    .colab-df-convert {\n",
              "      background-color: #E8F0FE;\n",
              "      border: none;\n",
              "      border-radius: 50%;\n",
              "      cursor: pointer;\n",
              "      display: none;\n",
              "      fill: #1967D2;\n",
              "      height: 32px;\n",
              "      padding: 0 0 0 0;\n",
              "      width: 32px;\n",
              "    }\n",
              "\n",
              "    .colab-df-convert:hover {\n",
              "      background-color: #E2EBFA;\n",
              "      box-shadow: 0px 1px 2px rgba(60, 64, 67, 0.3), 0px 1px 3px 1px rgba(60, 64, 67, 0.15);\n",
              "      fill: #174EA6;\n",
              "    }\n",
              "\n",
              "    .colab-df-buttons div {\n",
              "      margin-bottom: 4px;\n",
              "    }\n",
              "\n",
              "    [theme=dark] .colab-df-convert {\n",
              "      background-color: #3B4455;\n",
              "      fill: #D2E3FC;\n",
              "    }\n",
              "\n",
              "    [theme=dark] .colab-df-convert:hover {\n",
              "      background-color: #434B5C;\n",
              "      box-shadow: 0px 1px 3px 1px rgba(0, 0, 0, 0.15);\n",
              "      filter: drop-shadow(0px 1px 2px rgba(0, 0, 0, 0.3));\n",
              "      fill: #FFFFFF;\n",
              "    }\n",
              "  </style>\n",
              "\n",
              "    <script>\n",
              "      const buttonEl =\n",
              "        document.querySelector('#df-b3491131-1878-4b9b-bd8d-efe28c2cf51b button.colab-df-convert');\n",
              "      buttonEl.style.display =\n",
              "        google.colab.kernel.accessAllowed ? 'block' : 'none';\n",
              "\n",
              "      async function convertToInteractive(key) {\n",
              "        const element = document.querySelector('#df-b3491131-1878-4b9b-bd8d-efe28c2cf51b');\n",
              "        const dataTable =\n",
              "          await google.colab.kernel.invokeFunction('convertToInteractive',\n",
              "                                                    [key], {});\n",
              "        if (!dataTable) return;\n",
              "\n",
              "        const docLinkHtml = 'Like what you see? Visit the ' +\n",
              "          '<a target=\"_blank\" href=https://colab.research.google.com/notebooks/data_table.ipynb>data table notebook</a>'\n",
              "          + ' to learn more about interactive tables.';\n",
              "        element.innerHTML = '';\n",
              "        dataTable['output_type'] = 'display_data';\n",
              "        await google.colab.output.renderOutput(dataTable, element);\n",
              "        const docLink = document.createElement('div');\n",
              "        docLink.innerHTML = docLinkHtml;\n",
              "        element.appendChild(docLink);\n",
              "      }\n",
              "    </script>\n",
              "  </div>\n",
              "\n",
              "\n",
              "<div id=\"df-22886760-5842-438f-9ce8-70011d9bef31\">\n",
              "  <button class=\"colab-df-quickchart\" onclick=\"quickchart('df-22886760-5842-438f-9ce8-70011d9bef31')\"\n",
              "            title=\"Suggest charts.\"\n",
              "            style=\"display:none;\">\n",
              "\n",
              "<svg xmlns=\"http://www.w3.org/2000/svg\" height=\"24px\"viewBox=\"0 0 24 24\"\n",
              "     width=\"24px\">\n",
              "    <g>\n",
              "        <path d=\"M19 3H5c-1.1 0-2 .9-2 2v14c0 1.1.9 2 2 2h14c1.1 0 2-.9 2-2V5c0-1.1-.9-2-2-2zM9 17H7v-7h2v7zm4 0h-2V7h2v10zm4 0h-2v-4h2v4z\"/>\n",
              "    </g>\n",
              "</svg>\n",
              "  </button>\n",
              "\n",
              "<style>\n",
              "  .colab-df-quickchart {\n",
              "      --bg-color: #E8F0FE;\n",
              "      --fill-color: #1967D2;\n",
              "      --hover-bg-color: #E2EBFA;\n",
              "      --hover-fill-color: #174EA6;\n",
              "      --disabled-fill-color: #AAA;\n",
              "      --disabled-bg-color: #DDD;\n",
              "  }\n",
              "\n",
              "  [theme=dark] .colab-df-quickchart {\n",
              "      --bg-color: #3B4455;\n",
              "      --fill-color: #D2E3FC;\n",
              "      --hover-bg-color: #434B5C;\n",
              "      --hover-fill-color: #FFFFFF;\n",
              "      --disabled-bg-color: #3B4455;\n",
              "      --disabled-fill-color: #666;\n",
              "  }\n",
              "\n",
              "  .colab-df-quickchart {\n",
              "    background-color: var(--bg-color);\n",
              "    border: none;\n",
              "    border-radius: 50%;\n",
              "    cursor: pointer;\n",
              "    display: none;\n",
              "    fill: var(--fill-color);\n",
              "    height: 32px;\n",
              "    padding: 0;\n",
              "    width: 32px;\n",
              "  }\n",
              "\n",
              "  .colab-df-quickchart:hover {\n",
              "    background-color: var(--hover-bg-color);\n",
              "    box-shadow: 0 1px 2px rgba(60, 64, 67, 0.3), 0 1px 3px 1px rgba(60, 64, 67, 0.15);\n",
              "    fill: var(--button-hover-fill-color);\n",
              "  }\n",
              "\n",
              "  .colab-df-quickchart-complete:disabled,\n",
              "  .colab-df-quickchart-complete:disabled:hover {\n",
              "    background-color: var(--disabled-bg-color);\n",
              "    fill: var(--disabled-fill-color);\n",
              "    box-shadow: none;\n",
              "  }\n",
              "\n",
              "  .colab-df-spinner {\n",
              "    border: 2px solid var(--fill-color);\n",
              "    border-color: transparent;\n",
              "    border-bottom-color: var(--fill-color);\n",
              "    animation:\n",
              "      spin 1s steps(1) infinite;\n",
              "  }\n",
              "\n",
              "  @keyframes spin {\n",
              "    0% {\n",
              "      border-color: transparent;\n",
              "      border-bottom-color: var(--fill-color);\n",
              "      border-left-color: var(--fill-color);\n",
              "    }\n",
              "    20% {\n",
              "      border-color: transparent;\n",
              "      border-left-color: var(--fill-color);\n",
              "      border-top-color: var(--fill-color);\n",
              "    }\n",
              "    30% {\n",
              "      border-color: transparent;\n",
              "      border-left-color: var(--fill-color);\n",
              "      border-top-color: var(--fill-color);\n",
              "      border-right-color: var(--fill-color);\n",
              "    }\n",
              "    40% {\n",
              "      border-color: transparent;\n",
              "      border-right-color: var(--fill-color);\n",
              "      border-top-color: var(--fill-color);\n",
              "    }\n",
              "    60% {\n",
              "      border-color: transparent;\n",
              "      border-right-color: var(--fill-color);\n",
              "    }\n",
              "    80% {\n",
              "      border-color: transparent;\n",
              "      border-right-color: var(--fill-color);\n",
              "      border-bottom-color: var(--fill-color);\n",
              "    }\n",
              "    90% {\n",
              "      border-color: transparent;\n",
              "      border-bottom-color: var(--fill-color);\n",
              "    }\n",
              "  }\n",
              "</style>\n",
              "\n",
              "  <script>\n",
              "    async function quickchart(key) {\n",
              "      const quickchartButtonEl =\n",
              "        document.querySelector('#' + key + ' button');\n",
              "      quickchartButtonEl.disabled = true;  // To prevent multiple clicks.\n",
              "      quickchartButtonEl.classList.add('colab-df-spinner');\n",
              "      try {\n",
              "        const charts = await google.colab.kernel.invokeFunction(\n",
              "            'suggestCharts', [key], {});\n",
              "      } catch (error) {\n",
              "        console.error('Error during call to suggestCharts:', error);\n",
              "      }\n",
              "      quickchartButtonEl.classList.remove('colab-df-spinner');\n",
              "      quickchartButtonEl.classList.add('colab-df-quickchart-complete');\n",
              "    }\n",
              "    (() => {\n",
              "      let quickchartButtonEl =\n",
              "        document.querySelector('#df-22886760-5842-438f-9ce8-70011d9bef31 button');\n",
              "      quickchartButtonEl.style.display =\n",
              "        google.colab.kernel.accessAllowed ? 'block' : 'none';\n",
              "    })();\n",
              "  </script>\n",
              "</div>\n",
              "    </div>\n",
              "  </div>\n"
            ]
          },
          "metadata": {},
          "execution_count": 29
        }
      ]
    },
    {
      "cell_type": "markdown",
      "source": [
        "Data visualization"
      ],
      "metadata": {
        "id": "z7AHFtxZhde7"
      }
    },
    {
      "cell_type": "code",
      "source": [],
      "metadata": {
        "id": "Svpg-6YrhgI0"
      },
      "execution_count": null,
      "outputs": []
    }
  ]
}